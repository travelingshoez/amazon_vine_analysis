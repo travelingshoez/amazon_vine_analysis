{
  "nbformat": 4,
  "nbformat_minor": 0,
  "metadata": {
    "colab": {
      "provenance": []
    },
    "kernelspec": {
      "name": "python3",
      "display_name": "Python 3"
    },
    "language_info": {
      "name": "python"
    }
  },
  "cells": [
    {
      "cell_type": "code",
      "execution_count": 3,
      "metadata": {
        "colab": {
          "base_uri": "https://localhost:8080/"
        },
        "id": "h14vQERTtLTO",
        "outputId": "1356376a-825d-42cf-8418-e88511f0a73f"
      },
      "outputs": [
        {
          "output_type": "stream",
          "name": "stdout",
          "text": [
            "\r0% [Working]\r            \rHit:1 http://ppa.launchpad.net/c2d4u.team/c2d4u4.0+/ubuntu focal InRelease\n",
            "\r0% [Connecting to archive.ubuntu.com (91.189.91.39)] [Connecting to security.ub\r                                                                               \rGet:2 https://cloud.r-project.org/bin/linux/ubuntu focal-cran40/ InRelease [3,622 B]\n",
            "\r                                                                               \rHit:3 http://ppa.launchpad.net/cran/libgit2/ubuntu focal InRelease\n",
            "\r0% [Connecting to archive.ubuntu.com (91.189.91.39)] [Connecting to security.ub\r                                                                               \rHit:4 http://ppa.launchpad.net/deadsnakes/ppa/ubuntu focal InRelease\n",
            "\r0% [Connecting to archive.ubuntu.com (91.189.91.39)] [Connecting to security.ub\r                                                                               \rHit:5 http://ppa.launchpad.net/graphics-drivers/ppa/ubuntu focal InRelease\n",
            "Hit:6 http://ppa.launchpad.net/ubuntugis/ppa/ubuntu focal InRelease\n",
            "Get:7 http://security.ubuntu.com/ubuntu focal-security InRelease [114 kB]\n",
            "Hit:8 http://archive.ubuntu.com/ubuntu focal InRelease\n",
            "Get:9 http://archive.ubuntu.com/ubuntu focal-updates InRelease [114 kB]\n",
            "Ign:10 https://developer.download.nvidia.com/compute/machine-learning/repos/ubuntu2004/x86_64  InRelease\n",
            "Get:11 https://developer.download.nvidia.com/compute/cuda/repos/ubuntu2004/x86_64  InRelease [1,581 B]\n",
            "Hit:12 https://developer.download.nvidia.com/compute/machine-learning/repos/ubuntu2004/x86_64  Release\n",
            "Get:13 http://archive.ubuntu.com/ubuntu focal-backports InRelease [108 kB]\n",
            "Get:14 https://developer.download.nvidia.com/compute/cuda/repos/ubuntu2004/x86_64  Packages [920 kB]\n",
            "Get:16 http://security.ubuntu.com/ubuntu focal-security/main amd64 Packages [2,544 kB]\n",
            "Get:17 http://archive.ubuntu.com/ubuntu focal-updates/universe amd64 Packages [1,313 kB]\n",
            "Get:18 http://security.ubuntu.com/ubuntu focal-security/universe amd64 Packages [1,017 kB]\n",
            "Get:19 http://archive.ubuntu.com/ubuntu focal-updates/restricted amd64 Packages [2,136 kB]\n",
            "Get:20 http://archive.ubuntu.com/ubuntu focal-updates/main amd64 Packages [3,021 kB]\n",
            "Fetched 11.3 MB in 3s (4,220 kB/s)\n",
            "Reading package lists... Done\n"
          ]
        }
      ],
      "source": [
        "import os\n",
        "# Find the latest version of spark 3.2 from http://www.apache.org/dist/spark/ and enter as the spark version\n",
        "# For example:\n",
        "# spark_version = 'spark-3.2.3'\n",
        "spark_version = 'spark-3.2.3'\n",
        "os.environ['SPARK_VERSION']=spark_version\n",
        "\n",
        "# Install Spark and Java\n",
        "!apt-get update\n",
        "!apt-get install openjdk-11-jdk-headless -qq > /dev/null\n",
        "!wget -q http://www.apache.org/dist/spark/$SPARK_VERSION/$SPARK_VERSION-bin-hadoop2.7.tgz\n",
        "!tar xf $SPARK_VERSION-bin-hadoop2.7.tgz\n",
        "!pip install -q findspark\n",
        "\n",
        "# Set Environment Variables\n",
        "import os\n",
        "os.environ[\"JAVA_HOME\"] = \"/usr/lib/jvm/java-11-openjdk-amd64\"\n",
        "os.environ[\"SPARK_HOME\"] = f\"/content/{spark_version}-bin-hadoop2.7\"\n",
        "\n",
        "# Start a SparkSession\n",
        "import findspark\n",
        "findspark.init()"
      ]
    },
    {
      "cell_type": "code",
      "source": [
        "from pyspark.sql import SparkSession\n",
        "spark = SparkSession.builder.appName(\"M17-Amazon-Challenge\").config(\"spark.driver.extraClassPath\",\"/content/postgresql-42.2.16.jar\").getOrCreate()"
      ],
      "metadata": {
        "id": "Vz89g-ZAROsT"
      },
      "execution_count": 4,
      "outputs": []
    },
    {
      "cell_type": "code",
      "source": [
        "from pyspark import SparkFiles\n",
        "url = \"https://s3.amazonaws.com/amazon-reviews-pds/tsv/amazon_reviews_us_Sports_v1_00.tsv.gz\"\n",
        "spark.sparkContext.addFile(url)\n",
        "df = spark.read.option(\"encoding\", \"UTF-8\").csv(SparkFiles.get(\"\"), sep=\"\\t\", header=True, inferSchema=True)\n",
        "df.show(35)"
      ],
      "metadata": {
        "colab": {
          "base_uri": "https://localhost:8080/"
        },
        "id": "955UZaIKTm5y",
        "outputId": "3ff84bbf-2b5c-467d-a17a-23725c593362"
      },
      "execution_count": 5,
      "outputs": [
        {
          "output_type": "stream",
          "name": "stdout",
          "text": [
            "+-----------+-----------+--------------+----------+--------------+--------------------+----------------+-----------+-------------+-----------+----+-----------------+--------------------+--------------------+-----------+\n",
            "|marketplace|customer_id|     review_id|product_id|product_parent|       product_title|product_category|star_rating|helpful_votes|total_votes|vine|verified_purchase|     review_headline|         review_body|review_date|\n",
            "+-----------+-----------+--------------+----------+--------------+--------------------+----------------+-----------+-------------+-----------+----+-----------------+--------------------+--------------------+-----------+\n",
            "|         US|   48945260|R1WBPB8MDCCN8F|B012P7UPSM|     409940130|Chicago Blackhawk...|          Sports|          5|            0|          0|   N|                N|   LOVE IT. 6 stars!|Bought this last ...| 2015-08-31|\n",
            "|         US|    5782091|R32M0YEWV77XG8|B001GQ3VHG|     657746679|Copag Poker Size ...|          Sports|          5|            1|          1|   N|                Y|       Shipped fast.|These are the bes...| 2015-08-31|\n",
            "|         US|   45813853| RR8V7WR27NXJ5|B008VS8M58|     962442336|Baoer 223 5.56x45...|          Sports|          1|            0|          0|   N|                Y|Good idea if it w...|It looks good, th...| 2015-08-31|\n",
            "|         US|    1593730|R1MHO5V9Z932AY|B005F06F4U|      74305227|All Terrain Tackl...|          Sports|          5|            0|          0|   N|                Y|          Five Stars|           Great jig| 2015-08-31|\n",
            "|         US|   29605511|R16PD71086BD2V|B010T4IE2C|     787185588|Swim Cap - 3 Pack...|          Sports|          5|            0|          1|   N|                N|Great quality sil...|I love swimming i...| 2015-08-31|\n",
            "|         US|   11112959|R1Z8IFGWTRWXT6|B004RKJGLS|      94127483|adidas Men's Spor...|          Sports|          3|            0|          0|   N|                Y|Love everything a...|Love everything a...| 2015-08-31|\n",
            "|         US|     108031|R3AUMSHAW73HWN|B005V3DCBU|     526977496|Nike Men's Perfor...|          Sports|          4|            2|          3|   N|                N|          Four Stars|not the best sock...| 2015-08-31|\n",
            "|         US|   13981540|R2KWDWFOHGX6FL|B00MHT9WN8|      26521265|Green Bay Packers...|          Sports|          5|            0|          0|   N|                Y|          Five Stars|             Love it| 2015-08-31|\n",
            "|         US|   37993909|R3H9543FWBWFBU|B001CSIRQ8|     652431165|Isokinetics Inc. ...|          Sports|          5|            1|          1|   N|                Y|can't wait to use it|Unfortunately I h...| 2015-08-31|\n",
            "|         US|   26040213| RUANXOQ9W3OU5|B001KZ3NOO|     635861713|Aottop Quality El...|          Sports|          5|            0|          0|   N|                Y|great product, ac...|fast shipping , g...| 2015-08-31|\n",
            "|         US|   34657602|R31673RTGEZSW7|B00005RCQS|      72099763|Everlast 2'x6' Fo...|          Sports|          5|            2|          2|   N|                Y|this mat is a pre...|If you have a ter...| 2015-08-31|\n",
            "|         US|   14346192|R22OQLFSH42RCM|B00FA7RWVI|     757354022|OGIO Men's Shredd...|          Sports|          5|            1|          1|   N|                Y|  Versatile Golf Bag|Love this golf ba...| 2015-08-31|\n",
            "|         US|   38782687|R12LEL4F3TSZUJ|B000MMH2HU|     272402599|Blue Sea Systems ...|          Sports|          5|            2|          2|   N|                Y|Great AC Main Bre...|Perfect mounting ...| 2015-08-31|\n",
            "|         US|   27138575|R2L9XWD03072NI|B00WJOATDS|     375070208|Zengi AR15 45 Deg...|          Sports|          5|            1|          2|   N|                Y|   Nice, some quirks|For the cost you ...| 2015-08-31|\n",
            "|         US|   11838771|R2K0U91HIACANO|B00BOM2JNY|     639666785|Black Mountain Pr...|          Sports|          5|            0|          0|   N|                N|55 cm - Good qual...|The ball is very ...| 2015-08-31|\n",
            "|         US|     535800|R29SP6MBT7MXG7|B00OD5GAFM|      38715442|Trijicon VCOG 1-6...|          Sports|          4|            3|          3|   N|                Y|    Very nice scope.|Very nice scope.....| 2015-08-31|\n",
            "|         US|   23156579|R31XREAAMATEPY|B00CAHDC1K|      57088652|Naruto Headband f...|          Sports|          5|            0|          0|   N|                Y|was for my son an...|           This item| 2015-08-31|\n",
            "|         US|   48107879|R2116AVB87SO38|B004NLHXLG|     114125984|Under Armour Men'...|          Sports|          5|            0|          0|   N|                Y|          Five Stars|greatest socks i ...| 2015-08-31|\n",
            "|         US|   27260960|R3RDVBB6O0X3HW|B00L7OANWI|     883962979|Yes4All Deep Tiss...|          Sports|          5|            0|          0|   N|                Y|          Five Stars|Perfect for home ...| 2015-08-31|\n",
            "|         US|   39537314|R3LW5T149LKKQM|B0085PPSIQ|     691479969|Lansky PS-MED01 B...|          Sports|          4|            0|          0|   N|                Y|A bit heavy for p...|Very good product...| 2015-08-31|\n",
            "|         US|   18457385|R1THNVUD55C27K|B003WWQO94|     567685590|Champion Sports C...|          Sports|          5|            0|          0|   N|                Y|These are bright ...|Pleasantly surpri...| 2015-08-31|\n",
            "|         US|   28689758|R2V1NIGCEDQMWR|B00APSXA54|     356387565|Callaway Men's RA...|          Sports|          5|            0|          0|   N|                Y|They get the ball...|Tried several set...| 2015-08-31|\n",
            "|         US|   35214079| RIJXY4FJE2U7O|B00ZPTA41G|     511703314|NCAA Hover Helmet...|          Sports|          5|            0|          0|   N|                Y|Very cool. Great ...|Very cool.  Great...| 2015-08-31|\n",
            "|         US|    7572409|R3OI78MWLX18YH|B00AAHIRKS|     191288137|Gerber 31-001098 ...|          Sports|          1|            1|          2|   N|                Y|The cheapest plas...|I've never been s...| 2015-08-31|\n",
            "|         US|   41582860|R1NP0HLBWDXTG3|B0099WGZRW|     521874476|InForce WML, Mult...|          Sports|          1|            0|          0|   N|                Y|Mode selection le...|50%, had the mode...| 2015-08-31|\n",
            "|         US|   38139271| RFZBXOMZWEYPV|B00K5503O8|      40527220|Fixxxer Rear Cove...|          Sports|          5|            0|          0|   N|                Y|          Five Stars|As described, fit...| 2015-08-31|\n",
            "|         US|     106639|R1XW7YNDY1HHV2|B00GV6J8WI|     896379297|Wilson NFL MVP Fo...|          Sports|          5|            0|          0|   N|                N|       Nice football|Great ball. Feels...| 2015-08-31|\n",
            "|         US|   22885356| RXQWVQ6XDQ4L6|B00NSWHZCS|     396708923|Rukket 10x7ft Haa...|          Sports|          5|            1|          2|   N|                Y|Best net for a gr...|The netting and m...| 2015-08-31|\n",
            "|         US|   38468354| RPCITKSJ62BBH|B013F06TCO|     273588985|Rodut (TM) Adjust...|          Sports|          3|            0|          0|   N|                N|         Three Stars|It's a little too...| 2015-08-31|\n",
            "|         US|   11228537|R10H8KSR2XWCRO|B00OYSEH1M|     101613319|Kidder Infant Fle...|          Sports|          5|            0|          0|   N|                Y|        comfortable.|Very comfortable ...| 2015-08-31|\n",
            "|         US|   15342235|R1F6HW2IAXFZOE|B00NAHA6HC|     330547128|Ultimate Arms Gea...|          Sports|          5|            0|          0|   N|                Y|          Five Stars|         A++++++++++| 2015-08-31|\n",
            "|         US|   28088591|R34TV89J7GOPWJ|B00I1CJOA6|     728149528|Under Armour Men'...|          Sports|          5|            0|          0|   N|                Y|          Five Stars|My boyfriends fav...| 2015-08-31|\n",
            "|         US|   20093436| RD8O39QNCLDJN|B002TSPE5C|     942225482|     Sitting Stepper|          Sports|          5|            0|          0|   N|                Y|          Five Stars|          fun to use| 2015-08-31|\n",
            "|         US|   22750110| RHYA42XJUM2TE|B00545UBYQ|     904724650|Leather Front Poc...|          Sports|          5|            1|          1|   N|                Y|          Five Stars|Exactly what I ne...| 2015-08-31|\n",
            "|         US|   44801274|R1DUOZYOS0NA7Y|B00169CU66|     605693953|Total Gym XLS – U...|          Sports|          4|            0|          1|   N|                Y|          Four Stars|I have enjoyed my...| 2015-08-31|\n",
            "+-----------+-----------+--------------+----------+--------------+--------------------+----------------+-----------+-------------+-----------+----+-----------------+--------------------+--------------------+-----------+\n",
            "only showing top 35 rows\n",
            "\n"
          ]
        }
      ]
    },
    {
      "cell_type": "code",
      "source": [
        "# Read in the Review dataset as a DataFrame\n",
        "from pyspark import SparkFiles\n",
        "vine_df = df.select('review_headline', 'review_body', 'star_rating', 'helpful_votes', 'total_votes', 'vine', 'verified_purchase')\n",
        "vine_df.show(20)\n",
        "\n"
      ],
      "metadata": {
        "colab": {
          "base_uri": "https://localhost:8080/"
        },
        "id": "5U6fRpQ1TuEV",
        "outputId": "1857f478-477c-4d43-b5a4-096d0600a2e5"
      },
      "execution_count": 6,
      "outputs": [
        {
          "output_type": "stream",
          "name": "stdout",
          "text": [
            "+--------------------+--------------------+-----------+-------------+-----------+----+-----------------+\n",
            "|     review_headline|         review_body|star_rating|helpful_votes|total_votes|vine|verified_purchase|\n",
            "+--------------------+--------------------+-----------+-------------+-----------+----+-----------------+\n",
            "|   LOVE IT. 6 stars!|Bought this last ...|          5|            0|          0|   N|                N|\n",
            "|       Shipped fast.|These are the bes...|          5|            1|          1|   N|                Y|\n",
            "|Good idea if it w...|It looks good, th...|          1|            0|          0|   N|                Y|\n",
            "|          Five Stars|           Great jig|          5|            0|          0|   N|                Y|\n",
            "|Great quality sil...|I love swimming i...|          5|            0|          1|   N|                N|\n",
            "|Love everything a...|Love everything a...|          3|            0|          0|   N|                Y|\n",
            "|          Four Stars|not the best sock...|          4|            2|          3|   N|                N|\n",
            "|          Five Stars|             Love it|          5|            0|          0|   N|                Y|\n",
            "|can't wait to use it|Unfortunately I h...|          5|            1|          1|   N|                Y|\n",
            "|great product, ac...|fast shipping , g...|          5|            0|          0|   N|                Y|\n",
            "|this mat is a pre...|If you have a ter...|          5|            2|          2|   N|                Y|\n",
            "|  Versatile Golf Bag|Love this golf ba...|          5|            1|          1|   N|                Y|\n",
            "|Great AC Main Bre...|Perfect mounting ...|          5|            2|          2|   N|                Y|\n",
            "|   Nice, some quirks|For the cost you ...|          5|            1|          2|   N|                Y|\n",
            "|55 cm - Good qual...|The ball is very ...|          5|            0|          0|   N|                N|\n",
            "|    Very nice scope.|Very nice scope.....|          4|            3|          3|   N|                Y|\n",
            "|was for my son an...|           This item|          5|            0|          0|   N|                Y|\n",
            "|          Five Stars|greatest socks i ...|          5|            0|          0|   N|                Y|\n",
            "|          Five Stars|Perfect for home ...|          5|            0|          0|   N|                Y|\n",
            "|A bit heavy for p...|Very good product...|          4|            0|          0|   N|                Y|\n",
            "+--------------------+--------------------+-----------+-------------+-----------+----+-----------------+\n",
            "only showing top 20 rows\n",
            "\n"
          ]
        }
      ]
    },
    {
      "cell_type": "code",
      "source": [
        "from pyspark.sql.functions import desc\n",
        "\n",
        "# Drop null values from vine_df\n",
        "vine_drop_df = vine_df.na.drop()\n",
        "\n",
        "# Sort the vine_drop_df dataframe\n",
        "vine_drop_df.orderBy(desc(\"star_rating\"), desc(\"helpful_votes\"), desc(\"total_votes\"), desc(\"review_body\"), desc(\"vine\")).show(35)\n",
        "\n"
      ],
      "metadata": {
        "colab": {
          "base_uri": "https://localhost:8080/"
        },
        "id": "Pmg_M6FLYr_v",
        "outputId": "42b7df28-bdf0-4c43-af28-17ec91f30f62"
      },
      "execution_count": 7,
      "outputs": [
        {
          "output_type": "stream",
          "name": "stdout",
          "text": [
            "+--------------------+--------------------+-----------+-------------+-----------+----+-----------------+\n",
            "|     review_headline|         review_body|star_rating|helpful_votes|total_votes|vine|verified_purchase|\n",
            "+--------------------+--------------------+-----------+-------------+-----------+----+-----------------+\n",
            "| Got Me Past the TSA|While traveling t...|          5|         7379|       7512|   N|                N|\n",
            "|Rrrrrripppp....ye...|This is a nuts se...|          5|         7166|       7340|   N|                Y|\n",
            "|Outside runners, ...|I got the Weslo t...|          5|         6246|       6312|   N|                Y|\n",
            "|   Was skeptical....|I rarely write a ...|          5|         3136|       3208|   N|                Y|\n",
            "|Don't let the 25 ...|This is a good, f...|          5|         2839|       2996|   N|                N|\n",
            "|I love this more ...|I was a little le...|          5|         2784|       2876|   N|                N|\n",
            "|            Victory!|I purchased this ...|          5|         2671|       2956|   N|                N|\n",
            "|Demo of Stamina R...|[[VIDEOID:mo1N5FI...|          5|         2324|       2371|   N|                Y|\n",
            "|Fantastic Product...|For anyone who is...|          5|         2038|       2123|   N|                Y|\n",
            "|What's the differ...|First off a littl...|          5|         1929|       2128|   N|                N|\n",
            "|Not Too Basic and...|Before settling o...|          5|         1922|       1955|   N|                N|\n",
            "|Excellent solutio...|After a lot of co...|          5|         1913|       1982|   N|                Y|\n",
            "|               FUN!!|Okay, okay, I fel...|          5|         1807|       1850|   N|                Y|\n",
            "|Life altering! Be...|This is the one I...|          5|         1607|       1651|   N|                Y|\n",
            "|             ouch...|This product is a...|          5|         1572|       1632|   N|                Y|\n",
            "|I LET MY WIFE SPR...|I ordered this st...|          5|         1538|       1583|   N|                Y|\n",
            "|Great Value! Exce...|This is a perfect...|          5|         1497|       1547|   N|                N|\n",
            "|If you are new to...|Okay, there seem ...|          5|         1468|       1569|   N|                Y|\n",
            "|Great machine! He...|[[VIDEOID:1061192...|          5|         1435|       1477|   N|                Y|\n",
            "|Know What You Are...|I own several of ...|          5|         1426|       1487|   N|                Y|\n",
            "|Great Set- Differ...|I started taking ...|          5|         1414|       1462|   N|                Y|\n",
            "|A machine with so...|This is not a com...|          5|         1406|       1439|   N|                N|\n",
            "|     IT BURNSSSSSS!!|To give you some ...|          5|         1387|       1420|   N|                Y|\n",
            "|One heck of a qui...|As an apartment d...|          5|         1381|       1398|   N|                Y|\n",
            "|If you're on the ...|At first I was sk...|          5|         1377|       1480|   N|                N|\n",
            "|Rock Solid! Amazi...|UPDATE Dec 4th, 2...|          5|         1347|       1390|   N|                Y|\n",
            "|I Never would hav...|I Bought this pep...|          5|         1338|       1377|   N|                N|\n",
            "|There's no magic ...|[[VIDEOID:mo21M2T...|          5|         1332|       1621|   N|                Y|\n",
            "| SAFE but BE CAREFUL|I got to say you ...|          5|         1314|       1360|   N|                N|\n",
            "|Real results, low...|I absolutely love...|          5|         1297|       1357|   N|                Y|\n",
            "|Doesn't Bounce Ar...|I recently saw th...|          5|         1295|       1383|   N|                Y|\n",
            "| Not a penny wasted!|*Original Power 9...|          5|         1265|       1372|   N|                N|\n",
            "|Wonderful product...|I bought this min...|          5|         1261|       1308|   N|                Y|\n",
            "|High Quality Prod...|Let's break down ...|          5|         1239|       1295|   N|                Y|\n",
            "|Simple and EFFECTIVE|I received this l...|          5|         1223|       1272|   N|                N|\n",
            "+--------------------+--------------------+-----------+-------------+-----------+----+-----------------+\n",
            "only showing top 35 rows\n",
            "\n"
          ]
        }
      ]
    },
    {
      "cell_type": "code",
      "source": [
        "from pyspark.sql.functions import desc\n",
        "\n",
        "# Select the columns to include in the filtered dataframe and show the first 20 rows\n",
        "filtered_df = df.select('review_headline', 'review_body','star_rating', 'vine', 'helpful_votes', 'total_votes', 'verified_purchase')\n",
        "filtered_df.show(20)\n",
        "\n",
        "# Sort the filtered dataframe in descending order by the star_rating, helpful_votes, and total_votes columns\n",
        "sorted_df = filtered_df.orderBy(desc(\"star_rating\"))\n",
        "\n",
        "# Show the first 20 rows of the sorted dataframe\n",
        "sorted_df.show(20)\n",
        "\n",
        "\n",
        "\n",
        "#from pyspark.sql.functions import desc\n",
        "#filtered_df = df.select('star_rating', 'helpful_votes', 'total_votes').show(20)\n",
        "#filtered_df.orderBy(desc(\"star_rating\"), desc(\"helpful_votes\"), desc(\"total_votes\")).show(20)"
      ],
      "metadata": {
        "colab": {
          "base_uri": "https://localhost:8080/"
        },
        "id": "XBrMdN5b1ZK9",
        "outputId": "56f6ef7d-4451-42bf-eeb9-c14cce823565"
      },
      "execution_count": 8,
      "outputs": [
        {
          "output_type": "stream",
          "name": "stdout",
          "text": [
            "+--------------------+--------------------+-----------+----+-------------+-----------+-----------------+\n",
            "|     review_headline|         review_body|star_rating|vine|helpful_votes|total_votes|verified_purchase|\n",
            "+--------------------+--------------------+-----------+----+-------------+-----------+-----------------+\n",
            "|   LOVE IT. 6 stars!|Bought this last ...|          5|   N|            0|          0|                N|\n",
            "|       Shipped fast.|These are the bes...|          5|   N|            1|          1|                Y|\n",
            "|Good idea if it w...|It looks good, th...|          1|   N|            0|          0|                Y|\n",
            "|          Five Stars|           Great jig|          5|   N|            0|          0|                Y|\n",
            "|Great quality sil...|I love swimming i...|          5|   N|            0|          1|                N|\n",
            "|Love everything a...|Love everything a...|          3|   N|            0|          0|                Y|\n",
            "|          Four Stars|not the best sock...|          4|   N|            2|          3|                N|\n",
            "|          Five Stars|             Love it|          5|   N|            0|          0|                Y|\n",
            "|can't wait to use it|Unfortunately I h...|          5|   N|            1|          1|                Y|\n",
            "|great product, ac...|fast shipping , g...|          5|   N|            0|          0|                Y|\n",
            "|this mat is a pre...|If you have a ter...|          5|   N|            2|          2|                Y|\n",
            "|  Versatile Golf Bag|Love this golf ba...|          5|   N|            1|          1|                Y|\n",
            "|Great AC Main Bre...|Perfect mounting ...|          5|   N|            2|          2|                Y|\n",
            "|   Nice, some quirks|For the cost you ...|          5|   N|            1|          2|                Y|\n",
            "|55 cm - Good qual...|The ball is very ...|          5|   N|            0|          0|                N|\n",
            "|    Very nice scope.|Very nice scope.....|          4|   N|            3|          3|                Y|\n",
            "|was for my son an...|           This item|          5|   N|            0|          0|                Y|\n",
            "|          Five Stars|greatest socks i ...|          5|   N|            0|          0|                Y|\n",
            "|          Five Stars|Perfect for home ...|          5|   N|            0|          0|                Y|\n",
            "|A bit heavy for p...|Very good product...|          4|   N|            0|          0|                Y|\n",
            "+--------------------+--------------------+-----------+----+-------------+-----------+-----------------+\n",
            "only showing top 20 rows\n",
            "\n",
            "+--------------------+--------------------+-----------+----+-------------+-----------+-----------------+\n",
            "|     review_headline|         review_body|star_rating|vine|helpful_votes|total_votes|verified_purchase|\n",
            "+--------------------+--------------------+-----------+----+-------------+-----------+-----------------+\n",
            "|They get the ball...|Tried several set...|          5|   N|            0|          0|                Y|\n",
            "|             Love it|      Great quality!|          5|   N|            0|          0|                Y|\n",
            "|Very cool. Great ...|Very cool.  Great...|          5|   N|            0|          0|                Y|\n",
            "|       Shipped fast.|These are the bes...|          5|   N|            1|          1|                Y|\n",
            "|          Five Stars|As described, fit...|          5|   N|            0|          0|                Y|\n",
            "|          Five Stars|           Great jig|          5|   N|            0|          0|                Y|\n",
            "|       Nice football|Great ball. Feels...|          5|   N|            0|          0|                N|\n",
            "|Great quality sil...|I love swimming i...|          5|   N|            0|          1|                N|\n",
            "|stealth Cam    mo...|I am  very happy ...|          5|   N|            0|          2|                Y|\n",
            "|          Five Stars|             Love it|          5|   N|            0|          0|                Y|\n",
            "|can't wait to use it|Unfortunately I h...|          5|   N|            1|          1|                Y|\n",
            "|great product, ac...|fast shipping , g...|          5|   N|            0|          0|                Y|\n",
            "|Best net for a gr...|The netting and m...|          5|   N|            1|          2|                Y|\n",
            "|  Versatile Golf Bag|Love this golf ba...|          5|   N|            1|          1|                Y|\n",
            "|        comfortable.|Very comfortable ...|          5|   N|            0|          0|                Y|\n",
            "|   Nice, some quirks|For the cost you ...|          5|   N|            1|          2|                Y|\n",
            "|          Five Stars|         A++++++++++|          5|   N|            0|          0|                Y|\n",
            "|was for my son an...|           This item|          5|   N|            0|          0|                Y|\n",
            "|          Five Stars|My boyfriends fav...|          5|   N|            0|          0|                Y|\n",
            "|          Five Stars|Perfect for home ...|          5|   N|            0|          0|                Y|\n",
            "+--------------------+--------------------+-----------+----+-------------+-----------+-----------------+\n",
            "only showing top 20 rows\n",
            "\n"
          ]
        }
      ]
    },
    {
      "cell_type": "code",
      "source": [
        "from pyspark.sql.functions import col\n",
        "from pyspark.sql.functions import desc\n",
        "\n",
        "\n",
        "equated_df = sorted_df.filter(col(\"helpful_votes\") / col(\"total_votes\") >= 0.5)\n",
        "equated_df.show(20)\n",
        "\n",
        "organized_df = equated_df.orderBy(desc(\"star_rating\"), desc(\"helpful_votes\"), desc(\"total_votes\"))\n",
        "organized_df.show(20)\n",
        "\n",
        "\n",
        "\n",
        "# Sort the filtered dataframe in descending order by the total_votes and helpful_votes columns\n",
        "#sorted_review_df = filtered_review_df.orderBy(col('total_votes').desc(), col('helpful_votes').desc())\n",
        "\n",
        "# Show the first 20 rows of the sorted dataframe\n",
        "#sorted_review_df.show(20)\n",
        "\n",
        "\n",
        "\n",
        "\n"
      ],
      "metadata": {
        "colab": {
          "base_uri": "https://localhost:8080/"
        },
        "id": "DR9aHO8mb-jV",
        "outputId": "83a2db90-038b-4700-aa86-8da3940eea38"
      },
      "execution_count": 9,
      "outputs": [
        {
          "output_type": "stream",
          "name": "stdout",
          "text": [
            "+--------------------+--------------------+-----------+----+-------------+-----------+-----------------+\n",
            "|     review_headline|         review_body|star_rating|vine|helpful_votes|total_votes|verified_purchase|\n",
            "+--------------------+--------------------+-----------+----+-------------+-----------+-----------------+\n",
            "|My impression so ...|Black stretchy ma...|          5|   N|           11|         11|                Y|\n",
            "|               Happy|Nice shirt to my ...|          5|   N|            1|          1|                Y|\n",
            "|Good weight and f...|Good weight and f...|          5|   N|            1|          1|                Y|\n",
            "|can't wait to use it|Unfortunately I h...|          5|   N|            1|          1|                Y|\n",
            "| Adequate & Reliable|I'm leaving this ...|          5|   N|           11|         11|                Y|\n",
            "|this mat is a pre...|If you have a ter...|          5|   N|            2|          2|                Y|\n",
            "|          Five Stars|Works and fits pe...|          5|   N|            1|          1|                Y|\n",
            "|Great AC Main Bre...|Perfect mounting ...|          5|   N|            2|          2|                Y|\n",
            "|Really pretty con...|Really pretty con...|          5|   N|            1|          2|                Y|\n",
            "|Best net for a gr...|The netting and m...|          5|   N|            1|          2|                Y|\n",
            "|I absolutely love...|I absolutely love...|          5|   N|            2|          2|                N|\n",
            "|This Is A Super H...|This is a great l...|          5|   N|            1|          1|                N|\n",
            "|          Five Stars|Like the head cov...|          5|   N|            1|          1|                Y|\n",
            "|The most comforta...|I am currently in...|          5|   N|            2|          2|                Y|\n",
            "|easy, and quick w...|I purchased this ...|          5|   N|            3|          4|                N|\n",
            "|Best undershirt-t...|I've tried severa...|          5|   N|            1|          1|                N|\n",
            "|         Clever idea|As you can see fr...|          5|   N|            2|          3|                N|\n",
            "|   Nice, some quirks|For the cost you ...|          5|   N|            1|          2|                Y|\n",
            "|          Five Stars|             Perfect|          5|   N|            2|          3|                Y|\n",
            "|These are the mos...|These are the mos...|          5|   N|            1|          1|                Y|\n",
            "+--------------------+--------------------+-----------+----+-------------+-----------+-----------------+\n",
            "only showing top 20 rows\n",
            "\n",
            "+--------------------+--------------------+-----------+----+-------------+-----------+-----------------+\n",
            "|     review_headline|         review_body|star_rating|vine|helpful_votes|total_votes|verified_purchase|\n",
            "+--------------------+--------------------+-----------+----+-------------+-----------+-----------------+\n",
            "| Got Me Past the TSA|While traveling t...|          5|   N|         7379|       7512|                N|\n",
            "|Rrrrrripppp....ye...|This is a nuts se...|          5|   N|         7166|       7340|                Y|\n",
            "|Outside runners, ...|I got the Weslo t...|          5|   N|         6246|       6312|                Y|\n",
            "|   Was skeptical....|I rarely write a ...|          5|   N|         3136|       3208|                Y|\n",
            "|Don't let the 25 ...|This is a good, f...|          5|   N|         2839|       2996|                N|\n",
            "|I love this more ...|I was a little le...|          5|   N|         2784|       2876|                N|\n",
            "|            Victory!|I purchased this ...|          5|   N|         2671|       2956|                N|\n",
            "|Demo of Stamina R...|[[VIDEOID:mo1N5FI...|          5|   N|         2324|       2371|                Y|\n",
            "|Fantastic Product...|For anyone who is...|          5|   N|         2038|       2123|                Y|\n",
            "|What's the differ...|First off a littl...|          5|   N|         1929|       2128|                N|\n",
            "|Not Too Basic and...|Before settling o...|          5|   N|         1922|       1955|                N|\n",
            "|Excellent solutio...|After a lot of co...|          5|   N|         1913|       1982|                Y|\n",
            "|               FUN!!|Okay, okay, I fel...|          5|   N|         1807|       1850|                Y|\n",
            "|Life altering! Be...|This is the one I...|          5|   N|         1607|       1651|                Y|\n",
            "|             ouch...|This product is a...|          5|   N|         1572|       1632|                Y|\n",
            "|I LET MY WIFE SPR...|I ordered this st...|          5|   N|         1538|       1583|                Y|\n",
            "|Great Value! Exce...|This is a perfect...|          5|   N|         1497|       1547|                N|\n",
            "|If you are new to...|Okay, there seem ...|          5|   N|         1468|       1569|                Y|\n",
            "|Great machine! He...|[[VIDEOID:1061192...|          5|   N|         1435|       1477|                Y|\n",
            "|Know What You Are...|I own several of ...|          5|   N|         1426|       1487|                Y|\n",
            "+--------------------+--------------------+-----------+----+-------------+-----------+-----------------+\n",
            "only showing top 20 rows\n",
            "\n"
          ]
        }
      ]
    },
    {
      "cell_type": "code",
      "source": [
        "from pyspark.sql.functions import col\n",
        "vine_y_df = sorted_df.filter(col(\"vine\") == 'Y')\n",
        "vine_y_df.show()\n",
        "\n",
        "vine_n_df = sorted_df.filter(col(\"vine\") == 'N')\n",
        "vine_n_df.show()\n",
        "\n",
        "#vine_y_df = vine_df.select(col(\"vine\"))\n",
        "#vine_y_df = vine_df.filter\n",
        "#vine_y_df\n",
        "#reviews_df = vine_df.filter\n",
        "#vine_df.show(20)\n"
      ],
      "metadata": {
        "colab": {
          "base_uri": "https://localhost:8080/"
        },
        "id": "wt5nDQYYSgYn",
        "outputId": "63b2c522-80cd-466c-c1a7-a00cf969fe82"
      },
      "execution_count": 10,
      "outputs": [
        {
          "output_type": "stream",
          "name": "stdout",
          "text": [
            "+--------------------+--------------------+-----------+----+-------------+-----------+-----------------+\n",
            "|     review_headline|         review_body|star_rating|vine|helpful_votes|total_votes|verified_purchase|\n",
            "+--------------------+--------------------+-----------+----+-------------+-----------+-----------------+\n",
            "|Terrific Practice...|This is a very ni...|          5|   Y|            1|          1|                N|\n",
            "|Easy to use and r...|It is latex free ...|          5|   Y|            1|          1|                N|\n",
            "|Love the remote a...|This is my second...|          5|   Y|            1|          1|                N|\n",
            "|Bit of Flavor. . ...|This is a great “...|          5|   Y|            0|          0|                N|\n",
            "|WONDERFUL MASSAGE...|You get exactly w...|          5|   Y|            0|          1|                N|\n",
            "|  Sturdy, well-built|Very sturdy bench...|          5|   Y|            1|          1|                N|\n",
            "|Subbed in a Bigge...|I have been looki...|          5|   Y|            2|          2|                N|\n",
            "|This is really gr...|This is really gr...|          5|   Y|            1|          3|                N|\n",
            "|            Perfect.|This is everythin...|          5|   Y|            0|          0|                N|\n",
            "|Better Protection...|This is the “new-...|          5|   Y|            0|          1|                N|\n",
            "|Good All Round Hu...|Surprisingly well...|          5|   Y|            0|          0|                N|\n",
            "|        Good Trainer|The SKLZ kick coa...|          5|   Y|            5|          6|                N|\n",
            "|Well made, solid,...|This is an awesom...|          5|   Y|            7|          9|                N|\n",
            "|An intense and un...|I had honestly ne...|          5|   Y|            1|          2|                N|\n",
            "|SuperBad amazing ...|The Venum Power T...|          5|   Y|            4|          4|                N|\n",
            "|great pair of (ex...|Disclaimer: I am ...|          5|   Y|            0|          4|                N|\n",
            "|This is so just s...|This is really si...|          5|   Y|            1|          1|                N|\n",
            "|they're very comf...|My kids rarely do...|          5|   Y|            0|          0|                N|\n",
            "|Don't Forget the ...|I have been using...|          5|   Y|            0|          1|                N|\n",
            "|Perfect Practice ...|These gloves are ...|          5|   Y|            0|          0|                N|\n",
            "+--------------------+--------------------+-----------+----+-------------+-----------+-----------------+\n",
            "only showing top 20 rows\n",
            "\n",
            "+--------------------+--------------------+-----------+----+-------------+-----------+-----------------+\n",
            "|     review_headline|         review_body|star_rating|vine|helpful_votes|total_votes|verified_purchase|\n",
            "+--------------------+--------------------+-----------+----+-------------+-----------+-----------------+\n",
            "|They get the ball...|Tried several set...|          5|   N|            0|          0|                Y|\n",
            "|             Love it|      Great quality!|          5|   N|            0|          0|                Y|\n",
            "|Very cool. Great ...|Very cool.  Great...|          5|   N|            0|          0|                Y|\n",
            "|       Shipped fast.|These are the bes...|          5|   N|            1|          1|                Y|\n",
            "|          Five Stars|As described, fit...|          5|   N|            0|          0|                Y|\n",
            "|          Five Stars|           Great jig|          5|   N|            0|          0|                Y|\n",
            "|       Nice football|Great ball. Feels...|          5|   N|            0|          0|                N|\n",
            "|Great quality sil...|I love swimming i...|          5|   N|            0|          1|                N|\n",
            "|stealth Cam    mo...|I am  very happy ...|          5|   N|            0|          2|                Y|\n",
            "|          Five Stars|             Love it|          5|   N|            0|          0|                Y|\n",
            "|can't wait to use it|Unfortunately I h...|          5|   N|            1|          1|                Y|\n",
            "|great product, ac...|fast shipping , g...|          5|   N|            0|          0|                Y|\n",
            "|Best net for a gr...|The netting and m...|          5|   N|            1|          2|                Y|\n",
            "|  Versatile Golf Bag|Love this golf ba...|          5|   N|            1|          1|                Y|\n",
            "|        comfortable.|Very comfortable ...|          5|   N|            0|          0|                Y|\n",
            "|   Nice, some quirks|For the cost you ...|          5|   N|            1|          2|                Y|\n",
            "|          Five Stars|         A++++++++++|          5|   N|            0|          0|                Y|\n",
            "|was for my son an...|           This item|          5|   N|            0|          0|                Y|\n",
            "|          Five Stars|My boyfriends fav...|          5|   N|            0|          0|                Y|\n",
            "|          Five Stars|Perfect for home ...|          5|   N|            0|          0|                Y|\n",
            "+--------------------+--------------------+-----------+----+-------------+-----------+-----------------+\n",
            "only showing top 20 rows\n",
            "\n"
          ]
        }
      ]
    },
    {
      "cell_type": "code",
      "source": [
        "from pyspark.sql.functions import col, count, sum\n",
        "\n",
        "# Count the total number of reviews for each type\n",
        "count_reviews_df = vine_n_df.groupBy(\"vine\").agg(count(\"*\").alias(\"total_reviews\"))\n",
        "\n",
        "# Count the number of 5-star reviews for each type\n",
        "five_star_reviews_df = vine_n_df.filter(col(\"star_rating\") == 5).groupBy(\"vine\").agg(count(\"*\").alias(\"five_star_reviews\"))\n",
        "\n",
        "# Join the two DataFrames on the \"vine\" column\n",
        "joined_df = five_star_reviews_df.join(count_reviews_df, \"vine\")\n",
        "\n",
        "# Calculate the percentage of 5-star reviews for each type\n",
        "percentage_df = joined_df.withColumn(\"percentage_five_star\", (col(\"five_star_reviews\") / col(\"total_reviews\")) * 100)\n",
        "\n",
        "# Show the results\n",
        "percentage_df.show()\n"
      ],
      "metadata": {
        "colab": {
          "base_uri": "https://localhost:8080/"
        },
        "id": "zf916R4EtmrU",
        "outputId": "f8d4f5d8-34d7-4cc9-f744-7ca24dcef6ba"
      },
      "execution_count": 31,
      "outputs": [
        {
          "output_type": "stream",
          "name": "stdout",
          "text": [
            "+----+-----------------+-------------+--------------------+\n",
            "|vine|five_star_reviews|total_reviews|percentage_five_star|\n",
            "+----+-----------------+-------------+--------------------+\n",
            "|   N|          3035639|      4839483|   62.72651438180483|\n",
            "+----+-----------------+-------------+--------------------+\n",
            "\n"
          ]
        }
      ]
    },
    {
      "cell_type": "code",
      "source": [
        "# Count the total number of reviews for each type\n",
        "count_reviews_df = vine_y_df.groupBy(\"vine\").agg(count(\"*\").alias(\"total_reviews\"))\n",
        "\n",
        "# Count the number of 5-star reviews for each type\n",
        "five_star_reviews_df = vine_y_df.filter(col(\"star_rating\") == 5).groupBy(\"vine\").agg(count(\"*\").alias(\"five_star_reviews\"))\n",
        "\n",
        "# Join the two DataFrames on the \"vine\" column\n",
        "joined_df = five_star_reviews_df.join(count_reviews_df, \"vine\")\n",
        "\n",
        "# Calculate the percentage of 5-star reviews for each type\n",
        "percentage_df = joined_df.withColumn(\"percentage_five_star\", (col(\"five_star_reviews\") / col(\"total_reviews\")) * 100)\n",
        "\n",
        "# Show the results\n",
        "percentage_df.show()\n"
      ],
      "metadata": {
        "colab": {
          "base_uri": "https://localhost:8080/"
        },
        "id": "OxgHyYEe9AMT",
        "outputId": "870378bb-8f4f-442d-c8a6-d037ca24ba90"
      },
      "execution_count": 32,
      "outputs": [
        {
          "output_type": "stream",
          "name": "stdout",
          "text": [
            "+----+-----------------+-------------+--------------------+\n",
            "|vine|five_star_reviews|total_reviews|percentage_five_star|\n",
            "+----+-----------------+-------------+--------------------+\n",
            "|   Y|             4481|        10080|  44.454365079365076|\n",
            "+----+-----------------+-------------+--------------------+\n",
            "\n"
          ]
        }
      ]
    },
    {
      "cell_type": "code",
      "source": [
        "# Count the total number of reviews for each type\n",
        "count_reviews_df = vine_y_df.groupBy(\"verified_purchase\").agg(count(\"*\").alias(\"total_reviews\"))\n",
        "\n",
        "# Count the number of 5-star reviews for each type\n",
        "five_star_reviews_df = vine_y_df.filter(col(\"star_rating\") == 5).groupBy(\"verified_purchase\").agg(count(\"*\").alias(\"five_star_reviews\"))\n",
        "\n",
        "# Join the two DataFrames on the \"vine\" column\n",
        "joined_df = five_star_reviews_df.join(count_reviews_df, \"verified_purchase\")\n",
        "\n",
        "# Calculate the percentage of 5-star reviews for each type\n",
        "percentage_df = joined_df.withColumn(\"percentage_five_star\", (col(\"five_star_reviews\") / col(\"total_reviews\")) * 100)\n",
        "\n",
        "# Show the results\n",
        "percentage_df.show()"
      ],
      "metadata": {
        "colab": {
          "base_uri": "https://localhost:8080/"
        },
        "id": "pFSWGbpa9Nio",
        "outputId": "995ca571-42d9-4ce5-e075-5c11c6f70f4a"
      },
      "execution_count": 33,
      "outputs": [
        {
          "output_type": "stream",
          "name": "stdout",
          "text": [
            "+-----------------+-----------------+-------------+--------------------+\n",
            "|verified_purchase|five_star_reviews|total_reviews|percentage_five_star|\n",
            "+-----------------+-----------------+-------------+--------------------+\n",
            "|                Y|                9|           11|   81.81818181818183|\n",
            "|                N|             4472|        10069|   44.41354652895024|\n",
            "+-----------------+-----------------+-------------+--------------------+\n",
            "\n"
          ]
        }
      ]
    }
  ]
}